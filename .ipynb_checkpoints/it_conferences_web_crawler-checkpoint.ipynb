{
 "cells": [
  {
   "cell_type": "code",
   "execution_count": 1,
   "id": "6ed34a44-e4dc-4b26-9ebb-30f3f70db503",
   "metadata": {},
   "outputs": [],
   "source": [
    "import time\n",
    "import requests\n",
    "import numpy as np\n",
    "import pandas as pd \n",
    "from bs4 import BeautifulSoup"
   ]
  },
  {
   "cell_type": "code",
   "execution_count": null,
   "id": "fab4c409-9370-4f0c-a278-60d6e737077f",
   "metadata": {},
   "outputs": [],
   "source": []
  },
  {
   "cell_type": "code",
   "execution_count": null,
   "id": "e050c767-73e6-426e-9c0b-155db4cb9f61",
   "metadata": {},
   "outputs": [],
   "source": [
    "def collect_data(course_urls_file):\n",
    "    #load paths from file\n",
    "    url_file = open(course_urls_file)\n",
    "    urls = url_file.readlines()\n",
    "    urls_filtered = [item[:-1] for item in urls]\n",
    "    \n",
    "    #init empty list to store the values of each attribute.\n",
    "    SKU = []\n",
    "    Names = []\n",
    "    Prices = []\n",
    "    InStocks = []\n",
    "    Categories = []\n",
    "    Tags = []\n",
    "\n",
    "    for url in urls_filtered:\n",
    "        #TODO\n",
    "        \n",
    "        response = requests.get(url)\n",
    "        soup = BeautifulSoup(response.text, \"html.parser\")\n",
    "        \n",
    "        print(url)\n",
    "        \n",
    "        SKU.append(soup.select_one(\".sku\").text if soup.select_one(\".sku\").text else \"None\")\n",
    "        \n",
    "        Names.append(soup.select_one(\".product_title\").text if soup.select_one(\".product_title\").text else \"None\")\n",
    "        \n",
    "        Price = str(soup.select_one(\".price\").text) if soup.select_one(\".price\").text else \"None\"\n",
    "        Price = Price.split('£')[1]\n",
    "        Prices.append(Price)\n",
    "        \n",
    "        InStock = soup.select_one(\".stock\").text if soup.select_one(\".stock\").text else \"None\"\n",
    "        InStock = InStock.split(' in')[0]\n",
    "        InStocks.append(InStock)\n",
    "        \n",
    "        Category = soup.select_one(\".posted_in\").text if soup.select_one(\".posted_in\").text else \"None\"\n",
    "        Category = Category.split(': ')[1]\n",
    "        Categories.append(Category)\n",
    "        \n",
    "        Tag = soup.select_one(\".tagged_as\").text if soup.select_one(\".tagged_as\").text else \"None\"\n",
    "        Tag = Tag.split(':')[1]\n",
    "        Tags.append(Tag)\n",
    "        \n",
    "        #raise NotImplementedError(\"not implement\")\n",
    "        \n",
    "    data = pd.DataFrame({\"SKU\": SKU,\n",
    "                         \"Name\": Names,\n",
    "                         \"Price\": Prices, \n",
    "                         \"InStock\": InStocks,\n",
    "                         \"Categories\": Categories,\n",
    "                         \"Tags\": Tags})\n",
    "    return data"
   ]
  },
  {
   "cell_type": "code",
   "execution_count": null,
   "id": "b3a4e65c-d815-4835-8de3-7b2b34ef04e1",
   "metadata": {},
   "outputs": [],
   "source": [
    "data_pokemon = collect_data(\"pokemon.txt\") "
   ]
  },
  {
   "cell_type": "code",
   "execution_count": null,
   "id": "0b2934e6-51f5-44df-961b-64d7e85a7dd8",
   "metadata": {},
   "outputs": [],
   "source": [
    "data_pokemon = collect_data(\"pokemon.txt\") "
   ]
  }
 ],
 "metadata": {
  "kernelspec": {
   "display_name": "Python 3 (ipykernel)",
   "language": "python",
   "name": "python3"
  },
  "language_info": {
   "codemirror_mode": {
    "name": "ipython",
    "version": 3
   },
   "file_extension": ".py",
   "mimetype": "text/x-python",
   "name": "python",
   "nbconvert_exporter": "python",
   "pygments_lexer": "ipython3",
   "version": "3.11.4"
  }
 },
 "nbformat": 4,
 "nbformat_minor": 5
}
