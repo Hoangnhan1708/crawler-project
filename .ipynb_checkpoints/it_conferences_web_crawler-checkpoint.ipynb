{
 "cells": [
  {
   "cell_type": "code",
   "execution_count": 3,
   "id": "6ed34a44-e4dc-4b26-9ebb-30f3f70db503",
   "metadata": {},
   "outputs": [],
   "source": [
    "import time\n",
    "import requests\n",
    "import numpy as np\n",
    "import pandas as pd \n",
    "from bs4 import BeautifulSoup\n",
    "import re"
   ]
  },
  {
   "cell_type": "code",
   "execution_count": 80,
   "id": "e050c767-73e6-426e-9c0b-155db4cb9f61",
   "metadata": {},
   "outputs": [],
   "source": [
    "def collect_data(urls_file):\n",
    "    url_file = open(urls_file)\n",
    "    urls = url_file.readlines()\n",
    "    urls_filtered = [item[:-1] for item in urls]\n",
    "    # urls_filtered = ['https://dl.acm.org/doi/proceedings/10.1145/3448016']\n",
    "    Names = []\n",
    "    Times = []\n",
    "    Locations =[]\n",
    "    Topics = []\n",
    "    Authors = []\n",
    "    Papers = []\n",
    "    Contributors = []\n",
    "  \n",
    "\n",
    "    for url in urls_filtered:\n",
    "        #TODO\n",
    "        authorsEachWeb = []\n",
    "        papersEachWeb =[]\n",
    "        contributorsEachWeb = []\n",
    "        response = requests.get(url)\n",
    "        soup = BeautifulSoup(response.text, \"html.parser\")\n",
    "        \n",
    "        print(url)\n",
    "        \n",
    "        name_element = soup.find('div',class_='left-bordered-title')\n",
    "        if name_element != None:\n",
    "            name = name_element.text\n",
    "        else:\n",
    "            name = \"None\"\n",
    "        Names.append(name)\n",
    "\n",
    "        time = soup.find_all('div', class_='item-meta-row')\n",
    "        time = soup.find_all('span', class_='space')\n",
    "        time = time[1].text.strip()\n",
    "        Times.append( time if time else \"None\")\n",
    "        \n",
    "\n",
    "        location_element = soup.find_all('div', class_='item-meta-row__value')[1]\n",
    "        location = location_element.find('div').find('span',class_='dot-separator').text\n",
    "        location = ' '.join(location.strip().split())\n",
    "        Locations.append(location if location else \"None\")\n",
    "\n",
    "        topic = soup.find('div',class_='left-bordered-title').text\n",
    "        regexTopic = '.* on (.*)'\n",
    "        topic = re.search(regexTopic,topic).group(1)\n",
    "        Topics.append(topic if topic else \"None\")\n",
    "\n",
    "        authors_ul_element = soup.find_all('ul', attrs={\"aria-label\": \"authors\"})\n",
    "        for author_ul_element in authors_ul_element:\n",
    "            authors_li_element = author_ul_element.find_all('li')\n",
    "           \n",
    "            for author_li_element in authors_li_element:\n",
    "                author = author_li_element.text.replace(',','')\n",
    "                authorsEachWeb.append(author)\n",
    "        Authors.append(authorsEachWeb)\n",
    "\n",
    "        papers_h5_elemnent = soup.find_all('h5', class_='issue-item__title')\n",
    "        for paper_h5_element in papers_h5_elemnent:\n",
    "            papersEachWeb.append(paper_h5_element.text)\n",
    "        Papers.append(papersEachWeb)\n",
    "\n",
    "        contributors_holder_elemnent = soup.find_all('div', class_='box-item__title-holder')\n",
    "        for contributor_holder_elemnent in contributors_holder_elemnent:\n",
    "            contributors_div_elemnent = contributor_holder_elemnent.find_all('div', class_='box-item__title')\n",
    "            for contributor_div_elemnent in contributors_div_elemnent:\n",
    "                contributor_a_elemnent = contributor_div_elemnent.find('a')\n",
    "                contributorsEachWeb.append(contributor_a_elemnent.text)\n",
    "        Contributors.append(contributorsEachWeb)\n",
    "                        \n",
    "        \n",
    "        # print(Names)\n",
    "        # print(Times)\n",
    "        # print(Locations)\n",
    "        # print(Topics)\n",
    "        # print(Authors)\n",
    "        # print(Papers)\n",
    "        # print(Contributors)\n",
    "        \n",
    "        \n",
    "        \n",
    "    data = pd.DataFrame({\n",
    "                         \"Name\": Names,\n",
    "                         \"Time\": Times, \n",
    "                         \"Location\": Locations,\n",
    "                         \"Topic\": Topics,\n",
    "                         \"Author\": Authors,\n",
    "                         \"Paper\": Papers,\n",
    "                         \"Contributor\": Contributors,\n",
    "                        })\n",
    "    return data"
   ]
  },
  {
   "cell_type": "code",
   "execution_count": 81,
   "id": "b3a4e65c-d815-4835-8de3-7b2b34ef04e1",
   "metadata": {},
   "outputs": [
    {
     "name": "stdout",
     "output_type": "stream",
     "text": [
      "https://dl.acm.org/doi/proceedings/10.1145/3589246\n"
     ]
    },
    {
     "ename": "IndexError",
     "evalue": "list index out of range",
     "output_type": "error",
     "traceback": [
      "\u001b[0;31m---------------------------------------------------------------------------\u001b[0m",
      "\u001b[0;31mIndexError\u001b[0m                                Traceback (most recent call last)",
      "Cell \u001b[0;32mIn[81], line 1\u001b[0m\n\u001b[0;32m----> 1\u001b[0m data \u001b[38;5;241m=\u001b[39m \u001b[43mcollect_data\u001b[49m\u001b[43m(\u001b[49m\u001b[38;5;124;43m\"\u001b[39;49m\u001b[38;5;124;43mconferences_web.txt\u001b[39;49m\u001b[38;5;124;43m\"\u001b[39;49m\u001b[43m)\u001b[49m \n",
      "Cell \u001b[0;32mIn[80], line 34\u001b[0m, in \u001b[0;36mcollect_data\u001b[0;34m(urls_file)\u001b[0m\n\u001b[1;32m     32\u001b[0m time \u001b[38;5;241m=\u001b[39m soup\u001b[38;5;241m.\u001b[39mfind_all(\u001b[38;5;124m'\u001b[39m\u001b[38;5;124mdiv\u001b[39m\u001b[38;5;124m'\u001b[39m, class_\u001b[38;5;241m=\u001b[39m\u001b[38;5;124m'\u001b[39m\u001b[38;5;124mitem-meta-row\u001b[39m\u001b[38;5;124m'\u001b[39m)\n\u001b[1;32m     33\u001b[0m time \u001b[38;5;241m=\u001b[39m soup\u001b[38;5;241m.\u001b[39mfind_all(\u001b[38;5;124m'\u001b[39m\u001b[38;5;124mspan\u001b[39m\u001b[38;5;124m'\u001b[39m, class_\u001b[38;5;241m=\u001b[39m\u001b[38;5;124m'\u001b[39m\u001b[38;5;124mspace\u001b[39m\u001b[38;5;124m'\u001b[39m)\n\u001b[0;32m---> 34\u001b[0m time \u001b[38;5;241m=\u001b[39m \u001b[43mtime\u001b[49m\u001b[43m[\u001b[49m\u001b[38;5;241;43m1\u001b[39;49m\u001b[43m]\u001b[49m\u001b[38;5;241m.\u001b[39mtext\u001b[38;5;241m.\u001b[39mstrip()\n\u001b[1;32m     35\u001b[0m Times\u001b[38;5;241m.\u001b[39mappend( time \u001b[38;5;28;01mif\u001b[39;00m time \u001b[38;5;28;01melse\u001b[39;00m \u001b[38;5;124m\"\u001b[39m\u001b[38;5;124mNone\u001b[39m\u001b[38;5;124m\"\u001b[39m)\n\u001b[1;32m     38\u001b[0m location_element \u001b[38;5;241m=\u001b[39m soup\u001b[38;5;241m.\u001b[39mfind_all(\u001b[38;5;124m'\u001b[39m\u001b[38;5;124mdiv\u001b[39m\u001b[38;5;124m'\u001b[39m, class_\u001b[38;5;241m=\u001b[39m\u001b[38;5;124m'\u001b[39m\u001b[38;5;124mitem-meta-row__value\u001b[39m\u001b[38;5;124m'\u001b[39m)[\u001b[38;5;241m1\u001b[39m]\n",
      "\u001b[0;31mIndexError\u001b[0m: list index out of range"
     ]
    }
   ],
   "source": [
    "data = collect_data(\"conferences_web.txt\") "
   ]
  },
  {
   "cell_type": "code",
   "execution_count": null,
   "id": "0b2934e6-51f5-44df-961b-64d7e85a7dd8",
   "metadata": {},
   "outputs": [],
   "source": [
    "# data.to_csv(\"conferences.csv\")\n"
   ]
  }
 ],
 "metadata": {
  "kernelspec": {
   "display_name": "Python 3 (ipykernel)",
   "language": "python",
   "name": "python3"
  },
  "language_info": {
   "codemirror_mode": {
    "name": "ipython",
    "version": 3
   },
   "file_extension": ".py",
   "mimetype": "text/x-python",
   "name": "python",
   "nbconvert_exporter": "python",
   "pygments_lexer": "ipython3",
   "version": "3.10.8"
  }
 },
 "nbformat": 4,
 "nbformat_minor": 5
}
